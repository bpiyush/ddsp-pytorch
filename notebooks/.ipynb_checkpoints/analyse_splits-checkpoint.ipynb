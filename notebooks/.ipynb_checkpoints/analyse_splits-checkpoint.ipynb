{
 "cells": [
  {
   "cell_type": "code",
   "execution_count": null,
   "id": "2019c20b-3fcb-4205-baeb-a1c8f4b4dfe2",
   "metadata": {},
   "outputs": [],
   "source": []
  },
  {
   "cell_type": "code",
   "execution_count": 1,
   "id": "54d6a341-91e4-48ea-a141-fbf8f61e66e8",
   "metadata": {},
   "outputs": [],
   "source": [
    "import os\n",
    "import sys\n",
    "\n",
    "import warnings\n",
    "warnings.filterwarnings(\"ignore\")\n",
    "\n",
    "import torch\n",
    "import torchvision\n",
    "import torchaudio\n",
    "\n",
    "import numpy as np\n",
    "import pandas as pd\n",
    "import librosa\n",
    "import PIL\n",
    "import matplotlib.pyplot as plt\n",
    "from omegaconf import OmegaConf\n",
    "from IPython.display import display, Markdown\n",
    "\n",
    "import scripts.generate_dual_resonance as generation_script"
   ]
  },
  {
   "cell_type": "code",
   "execution_count": 6,
   "id": "ef43f21a-b3ef-41c4-a58d-5e5b7ae1a953",
   "metadata": {},
   "outputs": [],
   "source": [
    "import shared.utils as su"
   ]
  },
  {
   "cell_type": "code",
   "execution_count": 7,
   "id": "794cac41-4227-4a32-8703-5e407b2c1e68",
   "metadata": {},
   "outputs": [
    {
     "name": "stdout",
     "output_type": "stream",
     "text": [
      "train.txt  valid.txt\n"
     ]
    }
   ],
   "source": [
    "data_dir = \"/scratch/shared/beegfs/piyush/datasets/SyntheticPouring/v9.0\"\n",
    "!ls $data_dir/splits/"
   ]
  },
  {
   "cell_type": "code",
   "execution_count": 9,
   "id": "48ca4353-9534-4f94-965f-5ef670b3afe7",
   "metadata": {},
   "outputs": [
    {
     "data": {
      "text/plain": [
       "5569"
      ]
     },
     "execution_count": 9,
     "metadata": {},
     "output_type": "execute_result"
    }
   ],
   "source": [
    "train_ids = su.io.load_txt(os.path.join(data_dir, \"splits/train.txt\"))\n",
    "len(train_ids)"
   ]
  },
  {
   "cell_type": "code",
   "execution_count": 10,
   "id": "ea15fe1a-1e07-4d4a-8567-eb8d8b01fc43",
   "metadata": {},
   "outputs": [
    {
     "data": {
      "text/plain": [
       "1461"
      ]
     },
     "execution_count": 10,
     "metadata": {},
     "output_type": "execute_result"
    }
   ],
   "source": [
    "valid_ids = su.io.load_txt(os.path.join(data_dir, \"splits/valid.txt\"))\n",
    "len(valid_ids)"
   ]
  },
  {
   "cell_type": "code",
   "execution_count": 11,
   "id": "1978084b-5afe-4221-ba3f-2725b28e2937",
   "metadata": {},
   "outputs": [
    {
     "data": {
      "text/plain": [
       "(7030, 11)"
      ]
     },
     "execution_count": 11,
     "metadata": {},
     "output_type": "execute_result"
    }
   ],
   "source": [
    "df = pd.read_csv(os.path.join(data_dir, \"metadata/combined.csv\"))\n",
    "df.shape"
   ]
  },
  {
   "cell_type": "code",
   "execution_count": 17,
   "id": "89b50192-a798-49f0-bae0-bbe458a2d8a9",
   "metadata": {},
   "outputs": [
    {
     "data": {
      "text/plain": [
       "Index(['item_id', 'source_audio_path', 'duration', 'height', 'radius', 'beta',\n",
       "       'b', 'container_shape', 'Hn', 'Rn', 'id'],\n",
       "      dtype='object')"
      ]
     },
     "execution_count": 17,
     "metadata": {},
     "output_type": "execute_result"
    }
   ],
   "source": [
    "df_train = df[df.id.isin(train_ids)]\n",
    "df_valid = df[df.id.isin(valid_ids)]\n",
    "df.columns"
   ]
  },
  {
   "cell_type": "code",
   "execution_count": 19,
   "id": "c306487e-44ff-4d33-bff7-b071e89f8b96",
   "metadata": {},
   "outputs": [
    {
     "data": {
      "text/plain": [
       "container_shape\n",
       "bottleneck     2794\n",
       "cylindrical    2775\n",
       "Name: count, dtype: int64"
      ]
     },
     "execution_count": 19,
     "metadata": {},
     "output_type": "execute_result"
    }
   ],
   "source": [
    "df_train.container_shape.value_counts()"
   ]
  },
  {
   "cell_type": "code",
   "execution_count": 20,
   "id": "6430b8c1-8399-4ea8-9d95-f78acf3346e8",
   "metadata": {},
   "outputs": [
    {
     "data": {
      "text/plain": [
       "container_shape\n",
       "cylindrical    779\n",
       "bottleneck     682\n",
       "Name: count, dtype: int64"
      ]
     },
     "execution_count": 20,
     "metadata": {},
     "output_type": "execute_result"
    }
   ],
   "source": [
    "df_valid.container_shape.value_counts()"
   ]
  },
  {
   "cell_type": "code",
   "execution_count": 24,
   "id": "97c5a55c-1e18-4316-8eb0-aadbebdbda23",
   "metadata": {},
   "outputs": [],
   "source": [
    "audio_dir = os.path.join(data_dir, \"wav\")"
   ]
  },
  {
   "cell_type": "code",
   "execution_count": null,
   "id": "493aa967-5a5f-4ac4-90ee-f6b4cf0dabfc",
   "metadata": {},
   "outputs": [],
   "source": [
    "# Analyse some sample train/validation set\n",
    "\n",
    "df_show = df_train\n",
    "i = np.random.randint(len(df_show))\n",
    "\n",
    "row = df_show.iloc[i].to_dict()\n",
    "path = os.path.join(audio_dir, row[\"id\"] + \".wav\")\n",
    "sr = 16000\n",
    "y = su.audio.load_audio_torchaudio(path, sample_rate=sr)\n",
    "S = su.audio.librosa_harmonic_spectrogram_db(y, sr=sr, margin=8.)\n",
    "\n",
    "# Show frequency annotations\n",
    "n_eval = 25\n",
    "t = np.linspace(0, row[\"duration\"] - 0.001, n_eval)\n",
    "f_axial = su.physics.get_frequencies(\n",
    "    t, row, harmonic=None, vibration_type=\"axial\", container_shape=row[\"container_shape\"], \n",
    ")\n",
    "\n",
    "fig, ax = plt.subplots(1, 1, figsize=(8, 3))\n",
    "su.audio.show_logmelspectrogram(\n",
    "    S, sr=sr, title=row[\"container_shape\"], ax=ax, show=False, \n",
    ")\n",
    "F_MAX = 8000\n",
    "indices = np.where((f_axial < F_MAX))\n",
    "ax.scatter(\n",
    "    t[indices], f_axial[indices], color=\"cyan\", s=20, label=\"Axial\",\n",
    ")\n",
    "ax.legend()\n",
    "plt.show()"
   ]
  },
  {
   "cell_type": "code",
   "execution_count": null,
   "id": "387f7650-c667-4b70-ae66-2e6acc706d08",
   "metadata": {},
   "outputs": [],
   "source": []
  },
  {
   "cell_type": "code",
   "execution_count": null,
   "id": "ee618ae0-274d-4902-85b4-6311d65096da",
   "metadata": {},
   "outputs": [],
   "source": []
  },
  {
   "cell_type": "markdown",
   "id": "fb9515d4-41bd-45de-92a0-d636d882f135",
   "metadata": {},
   "source": [
    "**Get min/max values**"
   ]
  },
  {
   "cell_type": "code",
   "execution_count": 133,
   "id": "528fbf57-5088-49b4-8cb8-0b186f4ff8f2",
   "metadata": {},
   "outputs": [
    {
     "data": {
      "application/vnd.jupyter.widget-view+json": {
       "model_id": "8ba23569669948f7a3d14af653f3563b",
       "version_major": 2,
       "version_minor": 0
      },
      "text/plain": [
       "  0%|          | 0/7030 [00:00<?, ?it/s]"
      ]
     },
     "metadata": {},
     "output_type": "display_data"
    },
    {
     "data": {
      "text/plain": [
       "(7030, 1)"
      ]
     },
     "execution_count": 133,
     "metadata": {},
     "output_type": "execute_result"
    }
   ],
   "source": [
    "iterator = su.log.tqdm_iterator(\n",
    "    range(len(df))\n",
    ")\n",
    "F = []\n",
    "for i in iterator:\n",
    "    row = df.iloc[i].to_dict()\n",
    "    t = np.array([0.])\n",
    "    f_axial = su.physics.get_frequencies(\n",
    "        t, row, harmonic=None, vibration_type=\"axial\", container_shape=row[\"container_shape\"], \n",
    "    )\n",
    "    F.append(f_axial)\n",
    "F = np.stack(F)\n",
    "F.shape"
   ]
  },
  {
   "cell_type": "code",
   "execution_count": 88,
   "id": "86fe7f88-0fd0-4369-8c8c-cd702acd288f",
   "metadata": {},
   "outputs": [
    {
     "data": {
      "text/plain": [
       "(558.9621163215636, 17.021746908920683)"
      ]
     },
     "execution_count": 88,
     "metadata": {},
     "output_type": "execute_result"
    }
   ],
   "source": [
    "C = 340 * 100\n",
    "\n",
    "C/ F.min(), C / F.max()"
   ]
  },
  {
   "cell_type": "code",
   "execution_count": 95,
   "id": "a3bc2953-260f-4f06-8075-99f50f0c6c17",
   "metadata": {},
   "outputs": [
    {
     "data": {
      "text/plain": [
       "4"
      ]
     },
     "execution_count": 95,
     "metadata": {},
     "output_type": "execute_result"
    }
   ],
   "source": [
    "W = C / F\n",
    "(W > 500).sum()"
   ]
  },
  {
   "cell_type": "code",
   "execution_count": null,
   "id": "6440eb42-7480-4c48-b995-a31c32b5de6a",
   "metadata": {},
   "outputs": [],
   "source": []
  }
 ],
 "metadata": {
  "kernelspec": {
   "display_name": "Python 3 (ipykernel)",
   "language": "python",
   "name": "python3"
  },
  "language_info": {
   "codemirror_mode": {
    "name": "ipython",
    "version": 3
   },
   "file_extension": ".py",
   "mimetype": "text/x-python",
   "name": "python",
   "nbconvert_exporter": "python",
   "pygments_lexer": "ipython3",
   "version": "3.8.18"
  }
 },
 "nbformat": 4,
 "nbformat_minor": 5
}
